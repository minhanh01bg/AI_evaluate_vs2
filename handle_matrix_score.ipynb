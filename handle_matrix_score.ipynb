{
 "cells": [
  {
   "cell_type": "code",
   "execution_count": 17,
   "metadata": {},
   "outputs": [],
   "source": [
    "import pandas as pd\n",
    "import numpy as np\n",
    "import os"
   ]
  },
  {
   "cell_type": "code",
   "execution_count": 1,
   "metadata": {},
   "outputs": [
    {
     "ename": "NameError",
     "evalue": "name 'pd' is not defined",
     "output_type": "error",
     "traceback": [
      "\u001b[1;31m---------------------------------------------------------------------------\u001b[0m",
      "\u001b[1;31mNameError\u001b[0m                                 Traceback (most recent call last)",
      "Cell \u001b[1;32mIn [1], line 42\u001b[0m\n\u001b[0;32m     39\u001b[0m     \u001b[39m# True Negative (TN): TN is every part of the image where we did not predict an object. This metrics is not useful for object detection, hence we ignore TN.\u001b[39;00m\n\u001b[0;32m     40\u001b[0m     \u001b[39mreturn\u001b[39;00m TP, FP, FN\n\u001b[1;32m---> 42\u001b[0m df \u001b[39m=\u001b[39m pd\u001b[39m.\u001b[39mread_csv(\u001b[39m'\u001b[39m\u001b[39m./matrix_score.csv\u001b[39m\u001b[39m'\u001b[39m, index_col\u001b[39m=\u001b[39m\u001b[39m0\u001b[39m, header\u001b[39m=\u001b[39m\u001b[39m0\u001b[39m)\n\u001b[0;32m     43\u001b[0m \u001b[39m# matrix_score convert to matrix\u001b[39;00m\n\u001b[0;32m     44\u001b[0m matrix \u001b[39m=\u001b[39m df\u001b[39m.\u001b[39mvalues\n",
      "\u001b[1;31mNameError\u001b[0m: name 'pd' is not defined"
     ]
    }
   ],
   "source": [
    "# get max score in matrix \n",
    "# row different together\n",
    "def matrix_(matrix):\n",
    "    convert =[]\n",
    "    amount_row = len(matrix)\n",
    "    amount_col = len(matrix[0])\n",
    "    for i in range(len(matrix)):\n",
    "        for j in range(len(matrix[i])):\n",
    "            convert.append([i,j,matrix[i][j]])\n",
    "    df = pd.DataFrame(convert, columns=['row','col','score'])\n",
    "    # print(df)\n",
    "    # convert row, col, score to matrix\n",
    "    convert = df.values\n",
    "    convert = convert.tolist()\n",
    "    convert = sorted(convert, key=lambda x: x[2], reverse=True)\n",
    "    # print(convert)\n",
    "    \n",
    "    dict_col = []\n",
    "    dict_row = []\n",
    "    values = []\n",
    "    for i in range(len(convert)):\n",
    "        if str(convert[i][0]) not in dict_row and str(convert[i][1]) not in dict_col:\n",
    "            dict_col.append(str(convert[i][1]))\n",
    "            dict_row.append(str(convert[i][0]))\n",
    "            values.append(float(convert[i][2]))\n",
    "    \n",
    "    values = pd.DataFrame({'row':dict_row, 'col':dict_col, 'score':values})\n",
    "    \n",
    "    # if IoU ≥0.5, classify the object detection as True Positive(TP)\n",
    "    \n",
    "    acc_values = values.loc[values['score'] >= 0.5]\n",
    "    TP = len(acc_values)\n",
    "    # if Iou <0.5, then it is a wrong detection and classify it as False Positive(FP)\n",
    "    FP = len(values) - len(acc_values)\n",
    "    if amount_col > amount_row:\n",
    "        FP = FP + (amount_col - amount_row)\n",
    "    # When a ground truth is present in the image and model failed to detect the object, classify it as False Negative(FN).\n",
    "    FN = amount_row - amount_col\n",
    "    # True Negative (TN): TN is every part of the image where we did not predict an object. This metrics is not useful for object detection, hence we ignore TN.\n",
    "    return TP, FP, FN\n",
    "\n",
    "df = pd.read_csv('./matrix_score.csv', index_col=0, header=0)\n",
    "# matrix_score convert to matrix\n",
    "matrix = df.values\n",
    "# print(matrix)\n",
    "print(matrix_(matrix))\n",
    "\n",
    "\n",
    "\n",
    "\n"
   ]
  },
  {
   "cell_type": "code",
   "execution_count": 31,
   "metadata": {},
   "outputs": [
    {
     "name": "stdout",
     "output_type": "stream",
     "text": [
      "     row  col  score labels_trust labels_predict\n",
      "0      0    0    1.0       person         person\n",
      "1      1    1    1.0       person         person\n",
      "2      2    2    1.0       person         person\n",
      "3      3    3    1.0       person         person\n",
      "4      4    4    1.0       person         person\n",
      "..   ...  ...    ...          ...            ...\n",
      "104  104  104    1.0       person         person\n",
      "105  105  105    1.0       person         person\n",
      "106  106  106    1.0       person         person\n",
      "107  107  107    1.0       person         person\n",
      "108  108  108    1.0       person         person\n",
      "\n",
      "[109 rows x 5 columns]\n",
      "None\n"
     ]
    }
   ],
   "source": [
    "# handle matrix code all label\n",
    "import ast\n",
    "def matrix_(matrix):\n",
    "    convert =[]\n",
    "    labels_all=[]\n",
    "    amount_row = len(matrix)\n",
    "    amount_col = len(matrix[0])\n",
    "    for i in range(len(matrix)):\n",
    "        for j in range(len(matrix[i])):\n",
    "            arr = ast.literal_eval(matrix[i][j])\n",
    "            convert.append([i,j,float(arr[2]),arr[0],arr[1]])\n",
    "            if labels_trust not in labels_all:\n",
    "                labels_all.append(labels_trust)\n",
    "    df = pd.DataFrame(convert, columns=['row','col','score','labels_trust','labels_predict'])\n",
    "    # print(df)\n",
    "    # convert row, col, score to matrix\n",
    "    convert = df.values\n",
    "    convert = convert.tolist()\n",
    "    convert = sorted(convert, key=lambda x: x[2], reverse=True)\n",
    "    # print(convert)\n",
    "    \n",
    "    dict_col = []\n",
    "    dict_row = []\n",
    "    values = []\n",
    "    labels_trust = []\n",
    "    labels_predict= []\n",
    "    for i in range(len(convert)):\n",
    "        if str(convert[i][0]) not in dict_row and str(convert[i][1]) not in dict_col:\n",
    "            dict_col.append(str(convert[i][1]))\n",
    "            dict_row.append(str(convert[i][0]))\n",
    "            values.append(float(convert[i][2]))\n",
    "            labels_trust.append(convert[i][3])\n",
    "            labels_predict.append(convert[i][4])\n",
    "\n",
    "    values = pd.DataFrame({'row':dict_row, 'col':dict_col, 'score':values, 'labels_trust':labels_trust, 'labels_predict':labels_predict})\n",
    "    \n",
    "    # if IoU ≥0.5, classify the object detection as True Positive(TP)\n",
    "    print(values)\n",
    "    \n",
    "    acc_values = values.loc[values['score'] >= 0.5]\n",
    "    # labels_all\n",
    "    \n",
    "    \n",
    "\n",
    "df = pd.read_csv('./matrix_score1.csv', index_col=0, header=0)\n",
    "# matrix_score convert to matrix\n",
    "matrix = df.values\n",
    "# print(matrix)\n",
    "print(matrix_(matrix))\n"
   ]
  }
 ],
 "metadata": {
  "kernelspec": {
   "display_name": "Python 3",
   "language": "python",
   "name": "python3"
  },
  "language_info": {
   "codemirror_mode": {
    "name": "ipython",
    "version": 3
   },
   "file_extension": ".py",
   "mimetype": "text/x-python",
   "name": "python",
   "nbconvert_exporter": "python",
   "pygments_lexer": "ipython3",
   "version": "3.10.6 (tags/v3.10.6:9c7b4bd, Aug  1 2022, 21:53:49) [MSC v.1932 64 bit (AMD64)]"
  },
  "orig_nbformat": 4,
  "vscode": {
   "interpreter": {
    "hash": "6a3ffae8020a817511732d4d0fe02060948831585d778b076daf6741c73f247a"
   }
  }
 },
 "nbformat": 4,
 "nbformat_minor": 2
}
