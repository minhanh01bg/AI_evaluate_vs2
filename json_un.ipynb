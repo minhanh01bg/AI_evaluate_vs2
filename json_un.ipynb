{
 "cells": [
  {
   "cell_type": "code",
   "execution_count": 1,
   "metadata": {},
   "outputs": [],
   "source": [
    "import os\n",
    "import json\n",
    "import ast\n",
    "import csv\n",
    "import pandas as pd\n",
    "import numpy as np"
   ]
  },
  {
   "cell_type": "code",
   "execution_count": 2,
   "metadata": {},
   "outputs": [
    {
     "name": "stdout",
     "output_type": "stream",
     "text": [
      "1\n",
      "2\n",
      "3\n",
      "4\n"
     ]
    }
   ],
   "source": [
    "def created_folder(path):\n",
    "    try:\n",
    "        os.mkdir(path)\n",
    "        return True\n",
    "    except:\n",
    "        return False\n",
    "# count\n",
    "def coordinate(x,y,w,h,origin_width,origin_height):\n",
    "    x,y,w,h = float(x),float(y),float(w),float(h)\n",
    "    x = x*0.01*origin_width\n",
    "    y = y*0.01*origin_height\n",
    "    w = w*0.01*origin_width\n",
    "    h = h*0.01*origin_height\n",
    "    return y,x,y+h,x+w\n",
    "\n",
    "def create_new_dict(result):\n",
    "    ans_old={}\n",
    "    ans = []\n",
    "    for info_bb in result:\n",
    "        # info_bb_new = {}\n",
    "        # value = {}\n",
    "        # value['x'] = info_bb['value']['x']\n",
    "        # value['y'] = info_bb['value']['y']\n",
    "        # value['width'] = info_bb['value']['width']\n",
    "        # value['height'] = info_bb['value']['height']\n",
    "        # value['rectanglelabels'] = info_bb['value']['rectanglelabels']\n",
    "        origin_width = info_bb['original_width']\n",
    "        origin_height = info_bb['original_height']\n",
    "        y1,x1,y2,x2 = coordinate(info_bb['value']['x'],info_bb['value']['y'],info_bb['value']['width'],info_bb['value']['height'],origin_width,origin_height)\n",
    "        if info_bb['value']['rectanglelabels'][0] not in ans_old:\n",
    "            ans_old[info_bb['value']['rectanglelabels'][0]] = [[y1,x1,y2,x2]]\n",
    "        else:\n",
    "            ans_old[info_bb['value']['rectanglelabels'][0]].append([y1,x1,y2,x2])\n",
    "    return ans_old\n",
    "import shutil\n",
    "def remove_file_and_folder(path):\n",
    "    shutil.rmtree(path)\n",
    "            \n",
    "def remove_file(path):\n",
    "    os.remove(path)\n",
    "created_folder('./trust_csv/')\n",
    "remove_file_and_folder('./trust_csv/')\n",
    "created_folder('./trust_csv/')\n",
    "for file in os.listdir('./json'):\n",
    "    file_json = open('./json/'+file)\n",
    "    folder = file.split('.')[0].split('-')[1]\n",
    "    print(folder)\n",
    "    created_folder('./trust_csv/'+folder)\n",
    "    data = json.load(file_json)\n",
    "    # print(data)\n",
    "    # print(data[0]['annotations'][0]['result'])\n",
    "    header = ['frame_x','total','bounding_box']\n",
    "    for i in range(len(data)):\n",
    "        frame_name = data[i]['file_upload'].split('.')[0].split('-')[2]\n",
    "        # print(frame_name)\n",
    "        result = data[i]['annotations'][0]['result']\n",
    "        # if int(frame_name) == 42:\n",
    "            # print(result)\n",
    "        if os.path.isfile('./trust_csv/'+folder+'/'+data[i]['file_upload'].split('.')[0].split('-')[1]+'.csv')==False:\n",
    "            with open('./trust_csv/'+folder+'/'+data[i]['file_upload'].split('.')[0].split('-')[1]+'.csv','w') as f:\n",
    "                write = csv.writer(f)\n",
    "                write.writerow(header)\n",
    "                f.close()\n",
    "\n",
    "        with open('./trust_csv/'+folder+'/'+data[i]['file_upload'].split('.')[0].split('-')[1]+'.csv','a') as f:\n",
    "            write = csv.writer(f)\n",
    "            write.writerow([frame_name,len(result),create_new_dict(result)])\n",
    "            f.close()"
   ]
  },
  {
   "cell_type": "code",
   "execution_count": 6,
   "metadata": {},
   "outputs": [],
   "source": [
    "def sort_file_by_frame(path):\n",
    "    for file in os.listdir(path):\n",
    "        df = pd.read_csv(path+file) \n",
    "        df.astype({'frame_x':'int32'}).dtypes\n",
    "        df.sort_values(by=['frame_x'],inplace=True)     \n",
    "        remove_file(path+file)\n",
    "        df.to_csv(path+file,index=False)\n",
    "\n",
    "sort_file_by_frame('./trust_csv/4/')"
   ]
  }
 ],
 "metadata": {
  "kernelspec": {
   "display_name": "Python 3",
   "language": "python",
   "name": "python3"
  },
  "language_info": {
   "codemirror_mode": {
    "name": "ipython",
    "version": 3
   },
   "file_extension": ".py",
   "mimetype": "text/x-python",
   "name": "python",
   "nbconvert_exporter": "python",
   "pygments_lexer": "ipython3",
   "version": "3.10.6"
  },
  "orig_nbformat": 4,
  "vscode": {
   "interpreter": {
    "hash": "6a3ffae8020a817511732d4d0fe02060948831585d778b076daf6741c73f247a"
   }
  }
 },
 "nbformat": 4,
 "nbformat_minor": 2
}
