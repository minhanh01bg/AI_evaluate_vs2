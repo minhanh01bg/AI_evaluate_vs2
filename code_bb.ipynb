{
 "cells": [
  {
   "cell_type": "code",
   "execution_count": 1,
   "metadata": {},
   "outputs": [],
   "source": [
    "import pandas as pd\n",
    "import numpy as np\n",
    "import csv\n",
    "import os\n",
    "import ast\n",
    "import matplotlib.pyplot as plt \n",
    "from matplotlib.patches import Rectangle"
   ]
  },
  {
   "cell_type": "code",
   "execution_count": 2,
   "metadata": {},
   "outputs": [],
   "source": [
    "class BoundBox:\n",
    "    def __init__(self, ymin, xmin , ymax , xmax, objness=None, classes=None):\n",
    "        self.xmin = xmin\n",
    "        self.ymin = ymin\n",
    "        self.xmax = xmax\n",
    "        self.ymax = ymax\n",
    "        self.objness = objness\n",
    "        self.classes = classes\n",
    "        self.label = -1\n",
    "        self.score = -1\n",
    "\n",
    "    def get_label(self):\n",
    "        if self.label == -1:\n",
    "            self.label = np.argmax(self.classes)\n",
    "\n",
    "        return self.label\n",
    "\n",
    "    def get_score(self):\n",
    "        if self.score == -1:\n",
    "            self.score = self.classes[self.get_label()]\n",
    "\n",
    "        return self.score\n",
    "\n",
    "def plot_(path,id_frame,folder,videos,dict):\n",
    "    data = plt.imread(path)\n",
    "    plt.imshow(data)\n",
    "    ax = plt.gca()\n",
    "    for key in dict:\n",
    "        for i in range(len(dict[key])):\n",
    "            box = dict[key][i]\n",
    "            y1,x1,y2,x2 = box[0],box[1],box[2],box[3]\n",
    "            width,height = x2-x1,y2-y1\n",
    "            rect = Rectangle((x1,y1),width,height,fill=False,color='white')\n",
    "            ax.add_patch(rect)\n",
    "            label = key\n",
    "            # plt.text(x1,y1,label,color='white',fontsize=8)\n",
    "    # plt.axis('off')\n",
    "    plt.savefig('./save_test/'+folder+'/'+videos+'/'+id_frame+'.jpg',bbox_inches='tight',pad_inches=0,dpi=300)\n",
    "    plt.close()\n",
    "    \n",
    "\n",
    "def created_folder(path):\n",
    "    try:\n",
    "        os.mkdir(path)\n",
    "        return True\n",
    "    except:\n",
    "        return False\n",
    "    \n",
    "def plot_image_bb(path):\n",
    "    for folder in os.listdir(path):\n",
    "        for videos in os.listdir(path+folder+'/'):\n",
    "            video = videos.split('.')[0]\n",
    "            df = pd.read_csv(path+folder+'/'+videos)\n",
    "            for i in range(len(df['frame_x'])):\n",
    "                dict = ast.literal_eval(df['bounding_box'][i])\n",
    "                created_folder('./save_test/'+folder)\n",
    "                created_folder('./save_test/'+folder+'/'+video)        \n",
    "                plot_('./images/'+folder+'/'+video+'/'+video+'-'+str(df['frame_x'][i])+'.jpg',str(df['frame_x'][i]),folder,video,dict)\n",
    "\n",
    "plot_image_bb('./trust_csv/')"
   ]
  }
 ],
 "metadata": {
  "kernelspec": {
   "display_name": "Python 3",
   "language": "python",
   "name": "python3"
  },
  "language_info": {
   "codemirror_mode": {
    "name": "ipython",
    "version": 3
   },
   "file_extension": ".py",
   "mimetype": "text/x-python",
   "name": "python",
   "nbconvert_exporter": "python",
   "pygments_lexer": "ipython3",
   "version": "3.10.6"
  },
  "orig_nbformat": 4,
  "vscode": {
   "interpreter": {
    "hash": "6a3ffae8020a817511732d4d0fe02060948831585d778b076daf6741c73f247a"
   }
  }
 },
 "nbformat": 4,
 "nbformat_minor": 2
}
